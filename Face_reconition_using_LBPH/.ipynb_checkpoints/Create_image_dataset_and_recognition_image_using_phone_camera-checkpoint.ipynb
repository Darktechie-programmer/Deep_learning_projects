{
 "cells": [
  {
   "cell_type": "markdown",
   "metadata": {},
   "source": [
    "### part 1: Create image dataset..."
   ]
  },
  {
   "cell_type": "code",
   "execution_count": 3,
   "metadata": {},
   "outputs": [],
   "source": [
    "# import the libraries...\n",
    "import cv2\n",
    "import sys"
   ]
  },
  {
   "cell_type": "code",
   "execution_count": 11,
   "metadata": {},
   "outputs": [],
   "source": [
    "count = 0\n",
    "cap = cv2.VideoCapture(0) # \"http://192.168.43.1:8080\" ## For phone use the http link\n",
    "while cap.isOpened():\n",
    "    ret, frame = cap.read()\n",
    "    cv2.putText(frame, str(count), (50, 50), cv2.FONT_HERSHEY_COMPLEX, 1, (0,255,0), 2)\n",
    "    cv2.imshow(\"image\",frame)\n",
    "    file_path = './image_dataset/' + str(count)+'.jpg'\n",
    "    cv2.imwrite(file_path,frame)\n",
    "    count+=1\n",
    "    if cv2.waitKey(1) == ord('q') or count == 1000:\n",
    "        break\n",
    "        \n",
    "cap.release()\n",
    "cv2.destroyAllWindows()"
   ]
  },
  {
   "cell_type": "markdown",
   "metadata": {},
   "source": [
    "### Part 2: Create Face_recognition_using_LBPH"
   ]
  },
  {
   "cell_type": "code",
   "execution_count": 13,
   "metadata": {},
   "outputs": [],
   "source": [
    "# import the libraries...\n",
    "import numpy as np\n",
    "import os"
   ]
  },
  {
   "cell_type": "code",
   "execution_count": 15,
   "metadata": {},
   "outputs": [],
   "source": [
    "def faceDetection(img):\n",
    "    gray = cv2.cvtColor(img,cv2.COLOR_BGR2GRAYR)\n",
    "    face_haar = cv2.CascadeClassifier('haarcascade_frontalface_default.xml')\n",
    "    \n",
    "    faces = face_haar.detectMultiScale(gray,1.3,5)\n",
    "    return faces, gray"
   ]
  },
  {
   "cell_type": "code",
   "execution_count": 16,
   "metadata": {},
   "outputs": [],
   "source": [
    "def labels_for_training_data(directory):\n",
    "    faces = []\n",
    "    faceID = []\n",
    "    for path, subdirnames , filenames in os.walk(directory):\n",
    "        for filename in filenames:\n",
    "            if filename.startswith(\".\"):\n",
    "                print(\"Skipping System File\")\n",
    "                continue\n",
    "                \n",
    "            id = os.path.basename(path)\n",
    "            img_path = os.path.join(path,filename)\n",
    "            print(\"img_path\",img_path)\n",
    "            print(\"id\" , id)\n",
    "            \n",
    "            test_img = cv2.imread(img_path)\n",
    "            if test_img is None:\n",
    "                print(\"Not Loaded Properly\")\n",
    "                continue\n",
    "                \n",
    "            faces_rect , gray_img = faceDetection(test_img)\n",
    "            (x,y,w,h) = face_rect[0]\n",
    "            roi_gray = gray_img[y:y+w , x:x+h]\n",
    "            faces.append(roi_gray)\n",
    "            faceID.append(int(id))\n",
    "            \n",
    "        return faces, faceID"
   ]
  },
  {
   "cell_type": "code",
   "execution_count": 17,
   "metadata": {},
   "outputs": [],
   "source": [
    "def train_classifier(faces,faceID):                              \n",
    "    face_recognizer=cv2.face.LBPHFaceRecognizer_create()\n",
    "    face_recognizer.train(faces,np.array(faceID))\n",
    "    return face_recognizer"
   ]
  },
  {
   "cell_type": "code",
   "execution_count": 18,
   "metadata": {},
   "outputs": [],
   "source": [
    "def draw_rect(test_img,face):                                      \n",
    "    (x,y,w,h)=face\n",
    "    cv2.rectangle(test_img,(x,y),(x+w,y+h),(0,255,0),thickness=3)"
   ]
  },
  {
   "cell_type": "code",
   "execution_count": 19,
   "metadata": {},
   "outputs": [],
   "source": [
    "def put_text(test_img,text,x,y):  \n",
    "    cv2.putText(test_img,text,(x,y),cv2.FONT_HERSHEY_DUPLEX,3,(255,0,0),6)"
   ]
  },
  {
   "cell_type": "code",
   "execution_count": null,
   "metadata": {},
   "outputs": [],
   "source": []
  }
 ],
 "metadata": {
  "kernelspec": {
   "display_name": "Python 3",
   "language": "python",
   "name": "python3"
  },
  "language_info": {
   "codemirror_mode": {
    "name": "ipython",
    "version": 3
   },
   "file_extension": ".py",
   "mimetype": "text/x-python",
   "name": "python",
   "nbconvert_exporter": "python",
   "pygments_lexer": "ipython3",
   "version": "3.7.3"
  }
 },
 "nbformat": 4,
 "nbformat_minor": 2
}
